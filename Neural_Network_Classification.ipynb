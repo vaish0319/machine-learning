{
  "cells": [
    {
      "cell_type": "markdown",
      "metadata": {
        "id": "view-in-github",
        "colab_type": "text"
      },
      "source": [
        "<a href=\"https://colab.research.google.com/github/vaish0319/machine-learning/blob/main/Neural_Network_Classification.ipynb\" target=\"_parent\"><img src=\"https://colab.research.google.com/assets/colab-badge.svg\" alt=\"Open In Colab\"/></a>"
      ]
    },
    {
      "cell_type": "code",
      "execution_count": null,
      "metadata": {
        "colab": {
          "base_uri": "https://localhost:8080/",
          "height": 145
        },
        "id": "R-VH_JYMvacP",
        "outputId": "ee526516-1835-4bc7-aaba-3285fc6c9f72"
      },
      "outputs": [
        {
          "data": {
            "text/html": [
              "\n",
              "  <div id=\"df-2360e31a-09f9-438f-a91d-b5fd5077928c\">\n",
              "    <div class=\"colab-df-container\">\n",
              "      <div>\n",
              "<style scoped>\n",
              "    .dataframe tbody tr th:only-of-type {\n",
              "        vertical-align: middle;\n",
              "    }\n",
              "\n",
              "    .dataframe tbody tr th {\n",
              "        vertical-align: top;\n",
              "    }\n",
              "\n",
              "    .dataframe thead th {\n",
              "        text-align: right;\n",
              "    }\n",
              "</style>\n",
              "<table border=\"1\" class=\"dataframe\">\n",
              "  <thead>\n",
              "    <tr style=\"text-align: right;\">\n",
              "      <th></th>\n",
              "      <th>Pregnancies</th>\n",
              "      <th>Glucose</th>\n",
              "      <th>BloodPressure</th>\n",
              "      <th>SkinThickness</th>\n",
              "      <th>Insulin</th>\n",
              "      <th>BMI</th>\n",
              "      <th>DiabetesPedigreeFunction</th>\n",
              "      <th>Age</th>\n",
              "      <th>Outcome</th>\n",
              "    </tr>\n",
              "  </thead>\n",
              "  <tbody>\n",
              "    <tr>\n",
              "      <th>0</th>\n",
              "      <td>6</td>\n",
              "      <td>148</td>\n",
              "      <td>72</td>\n",
              "      <td>35</td>\n",
              "      <td>0</td>\n",
              "      <td>33.6</td>\n",
              "      <td>0.627</td>\n",
              "      <td>50</td>\n",
              "      <td>1</td>\n",
              "    </tr>\n",
              "  </tbody>\n",
              "</table>\n",
              "</div>\n",
              "      <button class=\"colab-df-convert\" onclick=\"convertToInteractive('df-2360e31a-09f9-438f-a91d-b5fd5077928c')\"\n",
              "              title=\"Convert this dataframe to an interactive table.\"\n",
              "              style=\"display:none;\">\n",
              "        \n",
              "  <svg xmlns=\"http://www.w3.org/2000/svg\" height=\"24px\"viewBox=\"0 0 24 24\"\n",
              "       width=\"24px\">\n",
              "    <path d=\"M0 0h24v24H0V0z\" fill=\"none\"/>\n",
              "    <path d=\"M18.56 5.44l.94 2.06.94-2.06 2.06-.94-2.06-.94-.94-2.06-.94 2.06-2.06.94zm-11 1L8.5 8.5l.94-2.06 2.06-.94-2.06-.94L8.5 2.5l-.94 2.06-2.06.94zm10 10l.94 2.06.94-2.06 2.06-.94-2.06-.94-.94-2.06-.94 2.06-2.06.94z\"/><path d=\"M17.41 7.96l-1.37-1.37c-.4-.4-.92-.59-1.43-.59-.52 0-1.04.2-1.43.59L10.3 9.45l-7.72 7.72c-.78.78-.78 2.05 0 2.83L4 21.41c.39.39.9.59 1.41.59.51 0 1.02-.2 1.41-.59l7.78-7.78 2.81-2.81c.8-.78.8-2.07 0-2.86zM5.41 20L4 18.59l7.72-7.72 1.47 1.35L5.41 20z\"/>\n",
              "  </svg>\n",
              "      </button>\n",
              "      \n",
              "  <style>\n",
              "    .colab-df-container {\n",
              "      display:flex;\n",
              "      flex-wrap:wrap;\n",
              "      gap: 12px;\n",
              "    }\n",
              "\n",
              "    .colab-df-convert {\n",
              "      background-color: #E8F0FE;\n",
              "      border: none;\n",
              "      border-radius: 50%;\n",
              "      cursor: pointer;\n",
              "      display: none;\n",
              "      fill: #1967D2;\n",
              "      height: 32px;\n",
              "      padding: 0 0 0 0;\n",
              "      width: 32px;\n",
              "    }\n",
              "\n",
              "    .colab-df-convert:hover {\n",
              "      background-color: #E2EBFA;\n",
              "      box-shadow: 0px 1px 2px rgba(60, 64, 67, 0.3), 0px 1px 3px 1px rgba(60, 64, 67, 0.15);\n",
              "      fill: #174EA6;\n",
              "    }\n",
              "\n",
              "    [theme=dark] .colab-df-convert {\n",
              "      background-color: #3B4455;\n",
              "      fill: #D2E3FC;\n",
              "    }\n",
              "\n",
              "    [theme=dark] .colab-df-convert:hover {\n",
              "      background-color: #434B5C;\n",
              "      box-shadow: 0px 1px 3px 1px rgba(0, 0, 0, 0.15);\n",
              "      filter: drop-shadow(0px 1px 2px rgba(0, 0, 0, 0.3));\n",
              "      fill: #FFFFFF;\n",
              "    }\n",
              "  </style>\n",
              "\n",
              "      <script>\n",
              "        const buttonEl =\n",
              "          document.querySelector('#df-2360e31a-09f9-438f-a91d-b5fd5077928c button.colab-df-convert');\n",
              "        buttonEl.style.display =\n",
              "          google.colab.kernel.accessAllowed ? 'block' : 'none';\n",
              "\n",
              "        async function convertToInteractive(key) {\n",
              "          const element = document.querySelector('#df-2360e31a-09f9-438f-a91d-b5fd5077928c');\n",
              "          const dataTable =\n",
              "            await google.colab.kernel.invokeFunction('convertToInteractive',\n",
              "                                                     [key], {});\n",
              "          if (!dataTable) return;\n",
              "\n",
              "          const docLinkHtml = 'Like what you see? Visit the ' +\n",
              "            '<a target=\"_blank\" href=https://colab.research.google.com/notebooks/data_table.ipynb>data table notebook</a>'\n",
              "            + ' to learn more about interactive tables.';\n",
              "          element.innerHTML = '';\n",
              "          dataTable['output_type'] = 'display_data';\n",
              "          await google.colab.output.renderOutput(dataTable, element);\n",
              "          const docLink = document.createElement('div');\n",
              "          docLink.innerHTML = docLinkHtml;\n",
              "          element.appendChild(docLink);\n",
              "        }\n",
              "      </script>\n",
              "    </div>\n",
              "  </div>\n",
              "  "
            ],
            "text/plain": [
              "   Pregnancies  Glucose  BloodPressure  SkinThickness  Insulin   BMI  \\\n",
              "0            6      148             72             35        0  33.6   \n",
              "\n",
              "   DiabetesPedigreeFunction  Age  Outcome  \n",
              "0                     0.627   50        1  "
            ]
          },
          "execution_count": 2,
          "metadata": {},
          "output_type": "execute_result"
        }
      ],
      "source": [
        "import pandas as pd\n",
        "\n",
        "data = pd.read_csv(\"/content/diabetes (2).csv\")\n",
        "data.head(1)"
      ]
    },
    {
      "cell_type": "code",
      "source": [
        ""
      ],
      "metadata": {
        "id": "tDONGTG8FWEu"
      },
      "execution_count": null,
      "outputs": []
    },
    {
      "cell_type": "code",
      "execution_count": null,
      "metadata": {
        "colab": {
          "base_uri": "https://localhost:8080/",
          "height": 145
        },
        "id": "GJmfUkGxyCl3",
        "outputId": "24e47171-928b-4cdc-d34c-915e2696a06f"
      },
      "outputs": [
        {
          "data": {
            "text/html": [
              "\n",
              "  <div id=\"df-52572edc-6324-49f2-9fee-0591cbe95457\">\n",
              "    <div class=\"colab-df-container\">\n",
              "      <div>\n",
              "<style scoped>\n",
              "    .dataframe tbody tr th:only-of-type {\n",
              "        vertical-align: middle;\n",
              "    }\n",
              "\n",
              "    .dataframe tbody tr th {\n",
              "        vertical-align: top;\n",
              "    }\n",
              "\n",
              "    .dataframe thead th {\n",
              "        text-align: right;\n",
              "    }\n",
              "</style>\n",
              "<table border=\"1\" class=\"dataframe\">\n",
              "  <thead>\n",
              "    <tr style=\"text-align: right;\">\n",
              "      <th></th>\n",
              "      <th>Pregnancies</th>\n",
              "      <th>Glucose</th>\n",
              "      <th>BloodPressure</th>\n",
              "      <th>SkinThickness</th>\n",
              "      <th>Insulin</th>\n",
              "      <th>BMI</th>\n",
              "      <th>DiabetesPedigreeFunction</th>\n",
              "      <th>Age</th>\n",
              "      <th>Outcome</th>\n",
              "    </tr>\n",
              "  </thead>\n",
              "  <tbody>\n",
              "    <tr>\n",
              "      <th>767</th>\n",
              "      <td>1</td>\n",
              "      <td>93</td>\n",
              "      <td>70</td>\n",
              "      <td>31</td>\n",
              "      <td>0</td>\n",
              "      <td>30.4</td>\n",
              "      <td>0.315</td>\n",
              "      <td>23</td>\n",
              "      <td>0</td>\n",
              "    </tr>\n",
              "  </tbody>\n",
              "</table>\n",
              "</div>\n",
              "      <button class=\"colab-df-convert\" onclick=\"convertToInteractive('df-52572edc-6324-49f2-9fee-0591cbe95457')\"\n",
              "              title=\"Convert this dataframe to an interactive table.\"\n",
              "              style=\"display:none;\">\n",
              "        \n",
              "  <svg xmlns=\"http://www.w3.org/2000/svg\" height=\"24px\"viewBox=\"0 0 24 24\"\n",
              "       width=\"24px\">\n",
              "    <path d=\"M0 0h24v24H0V0z\" fill=\"none\"/>\n",
              "    <path d=\"M18.56 5.44l.94 2.06.94-2.06 2.06-.94-2.06-.94-.94-2.06-.94 2.06-2.06.94zm-11 1L8.5 8.5l.94-2.06 2.06-.94-2.06-.94L8.5 2.5l-.94 2.06-2.06.94zm10 10l.94 2.06.94-2.06 2.06-.94-2.06-.94-.94-2.06-.94 2.06-2.06.94z\"/><path d=\"M17.41 7.96l-1.37-1.37c-.4-.4-.92-.59-1.43-.59-.52 0-1.04.2-1.43.59L10.3 9.45l-7.72 7.72c-.78.78-.78 2.05 0 2.83L4 21.41c.39.39.9.59 1.41.59.51 0 1.02-.2 1.41-.59l7.78-7.78 2.81-2.81c.8-.78.8-2.07 0-2.86zM5.41 20L4 18.59l7.72-7.72 1.47 1.35L5.41 20z\"/>\n",
              "  </svg>\n",
              "      </button>\n",
              "      \n",
              "  <style>\n",
              "    .colab-df-container {\n",
              "      display:flex;\n",
              "      flex-wrap:wrap;\n",
              "      gap: 12px;\n",
              "    }\n",
              "\n",
              "    .colab-df-convert {\n",
              "      background-color: #E8F0FE;\n",
              "      border: none;\n",
              "      border-radius: 50%;\n",
              "      cursor: pointer;\n",
              "      display: none;\n",
              "      fill: #1967D2;\n",
              "      height: 32px;\n",
              "      padding: 0 0 0 0;\n",
              "      width: 32px;\n",
              "    }\n",
              "\n",
              "    .colab-df-convert:hover {\n",
              "      background-color: #E2EBFA;\n",
              "      box-shadow: 0px 1px 2px rgba(60, 64, 67, 0.3), 0px 1px 3px 1px rgba(60, 64, 67, 0.15);\n",
              "      fill: #174EA6;\n",
              "    }\n",
              "\n",
              "    [theme=dark] .colab-df-convert {\n",
              "      background-color: #3B4455;\n",
              "      fill: #D2E3FC;\n",
              "    }\n",
              "\n",
              "    [theme=dark] .colab-df-convert:hover {\n",
              "      background-color: #434B5C;\n",
              "      box-shadow: 0px 1px 3px 1px rgba(0, 0, 0, 0.15);\n",
              "      filter: drop-shadow(0px 1px 2px rgba(0, 0, 0, 0.3));\n",
              "      fill: #FFFFFF;\n",
              "    }\n",
              "  </style>\n",
              "\n",
              "      <script>\n",
              "        const buttonEl =\n",
              "          document.querySelector('#df-52572edc-6324-49f2-9fee-0591cbe95457 button.colab-df-convert');\n",
              "        buttonEl.style.display =\n",
              "          google.colab.kernel.accessAllowed ? 'block' : 'none';\n",
              "\n",
              "        async function convertToInteractive(key) {\n",
              "          const element = document.querySelector('#df-52572edc-6324-49f2-9fee-0591cbe95457');\n",
              "          const dataTable =\n",
              "            await google.colab.kernel.invokeFunction('convertToInteractive',\n",
              "                                                     [key], {});\n",
              "          if (!dataTable) return;\n",
              "\n",
              "          const docLinkHtml = 'Like what you see? Visit the ' +\n",
              "            '<a target=\"_blank\" href=https://colab.research.google.com/notebooks/data_table.ipynb>data table notebook</a>'\n",
              "            + ' to learn more about interactive tables.';\n",
              "          element.innerHTML = '';\n",
              "          dataTable['output_type'] = 'display_data';\n",
              "          await google.colab.output.renderOutput(dataTable, element);\n",
              "          const docLink = document.createElement('div');\n",
              "          docLink.innerHTML = docLinkHtml;\n",
              "          element.appendChild(docLink);\n",
              "        }\n",
              "      </script>\n",
              "    </div>\n",
              "  </div>\n",
              "  "
            ],
            "text/plain": [
              "     Pregnancies  Glucose  BloodPressure  SkinThickness  Insulin   BMI  \\\n",
              "767            1       93             70             31        0  30.4   \n",
              "\n",
              "     DiabetesPedigreeFunction  Age  Outcome  \n",
              "767                     0.315   23        0  "
            ]
          },
          "execution_count": 3,
          "metadata": {},
          "output_type": "execute_result"
        }
      ],
      "source": [
        "data.tail(1)"
      ]
    },
    {
      "cell_type": "code",
      "execution_count": null,
      "metadata": {
        "colab": {
          "base_uri": "https://localhost:8080/"
        },
        "id": "rOFYHDwEyuNK",
        "outputId": "90545674-f8a4-40c9-a795-17cb42e77637"
      },
      "outputs": [
        {
          "data": {
            "text/plain": [
              "Index(['Pregnancies', 'Glucose', 'BloodPressure', 'SkinThickness', 'Insulin',\n",
              "       'BMI', 'DiabetesPedigreeFunction', 'Age', 'Outcome'],\n",
              "      dtype='object')"
            ]
          },
          "execution_count": 4,
          "metadata": {},
          "output_type": "execute_result"
        }
      ],
      "source": [
        "data.columns"
      ]
    },
    {
      "cell_type": "code",
      "execution_count": null,
      "metadata": {
        "colab": {
          "base_uri": "https://localhost:8080/"
        },
        "id": "ySUjc8WqzT78",
        "outputId": "21e80f90-5f0a-4118-c119-89f25c1da401"
      },
      "outputs": [
        {
          "data": {
            "text/plain": [
              "array([[  6.   , 148.   ,  72.   , ...,   0.627,  50.   ,   1.   ],\n",
              "       [  1.   ,  85.   ,  66.   , ...,   0.351,  31.   ,   0.   ],\n",
              "       [  8.   , 183.   ,  64.   , ...,   0.672,  32.   ,   1.   ],\n",
              "       ...,\n",
              "       [  5.   , 121.   ,  72.   , ...,   0.245,  30.   ,   0.   ],\n",
              "       [  1.   , 126.   ,  60.   , ...,   0.349,  47.   ,   1.   ],\n",
              "       [  1.   ,  93.   ,  70.   , ...,   0.315,  23.   ,   0.   ]])"
            ]
          },
          "execution_count": 5,
          "metadata": {},
          "output_type": "execute_result"
        }
      ],
      "source": [
        "data.values"
      ]
    },
    {
      "cell_type": "code",
      "execution_count": null,
      "metadata": {
        "colab": {
          "base_uri": "https://localhost:8080/"
        },
        "id": "GOawfW-pzodA",
        "outputId": "3be42808-d2d9-428d-ca9a-55a6c930139f"
      },
      "outputs": [
        {
          "name": "stdout",
          "output_type": "stream",
          "text": [
            "[[  6.    148.     72.    ...  33.6     0.627  50.   ]\n",
            " [  1.     85.     66.    ...  26.6     0.351  31.   ]\n",
            " [  8.    183.     64.    ...  23.3     0.672  32.   ]\n",
            " ...\n",
            " [  5.    121.     72.    ...  26.2     0.245  30.   ]\n",
            " [  1.    126.     60.    ...  30.1     0.349  47.   ]\n",
            " [  1.     93.     70.    ...  30.4     0.315  23.   ]]\n",
            "[1. 0. 1. 0. 1. 0. 1. 0. 1. 1. 0. 1. 0. 1. 1. 1. 1. 1. 0. 1. 0. 0. 1. 1.\n",
            " 1. 1. 1. 0. 0. 0. 0. 1. 0. 0. 0. 0. 0. 1. 1. 1. 0. 0. 0. 1. 0. 1. 0. 0.\n",
            " 1. 0. 0. 0. 0. 1. 0. 0. 1. 0. 0. 0. 0. 1. 0. 0. 1. 0. 1. 0. 0. 0. 1. 0.\n",
            " 1. 0. 0. 0. 0. 0. 1. 0. 0. 0. 0. 0. 1. 0. 0. 0. 1. 0. 0. 0. 0. 1. 0. 0.\n",
            " 0. 0. 0. 1. 1. 0. 0. 0. 0. 0. 0. 0. 0. 1. 1. 1. 0. 0. 1. 1. 1. 0. 0. 0.\n",
            " 1. 0. 0. 0. 1. 1. 0. 0. 1. 1. 1. 1. 1. 0. 0. 0. 0. 0. 0. 0. 0. 0. 0. 1.\n",
            " 0. 0. 0. 0. 0. 0. 0. 0. 1. 0. 1. 1. 0. 0. 0. 1. 0. 0. 0. 0. 1. 1. 0. 0.\n",
            " 0. 0. 1. 1. 0. 0. 0. 1. 0. 1. 0. 1. 0. 0. 0. 0. 0. 1. 1. 1. 1. 1. 0. 0.\n",
            " 1. 1. 0. 1. 0. 1. 1. 1. 0. 0. 0. 0. 0. 0. 1. 1. 0. 1. 0. 0. 0. 1. 1. 1.\n",
            " 1. 0. 1. 1. 1. 1. 0. 0. 0. 0. 0. 1. 0. 0. 1. 1. 0. 0. 0. 1. 1. 1. 1. 0.\n",
            " 0. 0. 1. 1. 0. 1. 0. 0. 0. 0. 0. 0. 0. 0. 1. 1. 0. 0. 0. 1. 0. 1. 0. 0.\n",
            " 1. 0. 1. 0. 0. 1. 1. 0. 0. 0. 0. 0. 1. 0. 0. 0. 1. 0. 0. 1. 1. 0. 0. 1.\n",
            " 0. 0. 0. 1. 1. 1. 0. 0. 1. 0. 1. 0. 1. 1. 0. 1. 0. 0. 1. 0. 1. 1. 0. 0.\n",
            " 1. 0. 1. 0. 0. 1. 0. 1. 0. 1. 1. 1. 0. 0. 1. 0. 1. 0. 0. 0. 1. 0. 0. 0.\n",
            " 0. 1. 1. 1. 0. 0. 0. 0. 0. 0. 0. 0. 0. 1. 0. 0. 0. 0. 0. 1. 1. 1. 0. 1.\n",
            " 1. 0. 0. 1. 0. 0. 1. 0. 0. 1. 1. 0. 0. 0. 0. 1. 0. 0. 1. 0. 0. 0. 0. 0.\n",
            " 0. 0. 1. 1. 1. 0. 0. 1. 0. 0. 1. 0. 0. 1. 0. 1. 1. 0. 1. 0. 1. 0. 1. 0.\n",
            " 1. 1. 0. 0. 0. 0. 1. 1. 0. 1. 0. 1. 0. 0. 0. 0. 1. 1. 0. 1. 0. 1. 0. 0.\n",
            " 0. 0. 0. 1. 0. 0. 0. 0. 1. 0. 0. 1. 1. 1. 0. 0. 1. 0. 0. 1. 0. 0. 0. 1.\n",
            " 0. 0. 1. 0. 0. 0. 0. 0. 0. 0. 0. 0. 1. 0. 0. 0. 0. 0. 0. 0. 1. 0. 0. 0.\n",
            " 1. 0. 0. 0. 1. 1. 0. 0. 0. 0. 0. 0. 0. 1. 0. 0. 0. 0. 1. 0. 0. 0. 1. 0.\n",
            " 0. 0. 1. 0. 0. 0. 1. 0. 0. 0. 0. 1. 1. 0. 0. 0. 0. 0. 0. 1. 0. 0. 0. 0.\n",
            " 0. 0. 0. 0. 0. 0. 0. 1. 0. 0. 0. 1. 1. 1. 1. 0. 0. 1. 1. 0. 0. 0. 0. 0.\n",
            " 0. 0. 0. 0. 0. 0. 0. 0. 1. 1. 0. 0. 0. 0. 0. 0. 0. 1. 0. 0. 0. 0. 0. 0.\n",
            " 0. 1. 0. 1. 1. 0. 0. 0. 1. 0. 1. 0. 1. 0. 1. 0. 1. 0. 0. 1. 0. 0. 1. 0.\n",
            " 0. 0. 0. 1. 1. 0. 1. 0. 0. 0. 0. 1. 1. 0. 1. 0. 0. 0. 1. 1. 0. 0. 0. 0.\n",
            " 0. 0. 0. 0. 0. 0. 1. 0. 0. 0. 0. 1. 0. 0. 1. 0. 0. 0. 1. 0. 0. 0. 1. 1.\n",
            " 1. 0. 0. 0. 0. 0. 0. 1. 0. 0. 0. 1. 0. 1. 1. 1. 1. 0. 1. 1. 0. 0. 0. 0.\n",
            " 0. 0. 0. 1. 1. 0. 1. 0. 0. 1. 0. 1. 0. 0. 0. 0. 0. 1. 0. 1. 0. 1. 0. 1.\n",
            " 1. 0. 0. 0. 0. 1. 1. 0. 0. 0. 1. 0. 1. 1. 0. 0. 1. 0. 0. 1. 1. 0. 0. 1.\n",
            " 0. 0. 1. 0. 0. 0. 0. 0. 0. 0. 1. 1. 1. 0. 0. 0. 0. 0. 0. 1. 1. 0. 0. 1.\n",
            " 0. 0. 1. 0. 1. 1. 1. 0. 0. 1. 1. 1. 0. 1. 0. 1. 0. 1. 0. 0. 0. 0. 1. 0.]\n"
          ]
        }
      ],
      "source": [
        "dataset=data.values\n",
        "x=dataset[:,0:8]\n",
        "y=dataset[:,8]\n",
        "print(x)\n",
        "print(y)"
      ]
    },
    {
      "cell_type": "code",
      "execution_count": null,
      "metadata": {
        "colab": {
          "base_uri": "https://localhost:8080/"
        },
        "id": "oOXtl8dSzirc",
        "outputId": "50662c31-9159-4a99-9c48-96fe7f39da74"
      },
      "outputs": [
        {
          "data": {
            "text/plain": [
              "array([[0.35294118, 0.74371859, 0.59016393, ..., 0.50074516, 0.23441503,\n",
              "        0.48333333],\n",
              "       [0.05882353, 0.42713568, 0.54098361, ..., 0.39642325, 0.11656704,\n",
              "        0.16666667],\n",
              "       [0.47058824, 0.91959799, 0.52459016, ..., 0.34724292, 0.25362938,\n",
              "        0.18333333],\n",
              "       ...,\n",
              "       [0.29411765, 0.6080402 , 0.59016393, ..., 0.390462  , 0.07130658,\n",
              "        0.15      ],\n",
              "       [0.05882353, 0.63316583, 0.49180328, ..., 0.4485842 , 0.11571307,\n",
              "        0.43333333],\n",
              "       [0.05882353, 0.46733668, 0.57377049, ..., 0.45305514, 0.10119556,\n",
              "        0.03333333]])"
            ]
          },
          "execution_count": 7,
          "metadata": {},
          "output_type": "execute_result"
        }
      ],
      "source": [
        "from sklearn import preprocessing\n",
        "min_max_scaler=preprocessing.MinMaxScaler()\n",
        "X_scale=min_max_scaler.fit_transform(x)\n",
        "X_scale"
      ]
    },
    {
      "cell_type": "code",
      "execution_count": null,
      "metadata": {
        "colab": {
          "base_uri": "https://localhost:8080/"
        },
        "id": "fz3yYhUQ2irf",
        "outputId": "1ffac399-fae1-4e42-c610-6969b57b3a92"
      },
      "outputs": [
        {
          "data": {
            "text/plain": [
              "array([[0., 1.],\n",
              "       [1., 0.],\n",
              "       [0., 1.],\n",
              "       ...,\n",
              "       [1., 0.],\n",
              "       [0., 1.],\n",
              "       [1., 0.]], dtype=float32)"
            ]
          },
          "execution_count": 8,
          "metadata": {},
          "output_type": "execute_result"
        }
      ],
      "source": [
        "from keras.utils import np_utils\n",
        "encoded_y=np_utils.to_categorical(y)\n",
        "encoded_y"
      ]
    },
    {
      "cell_type": "code",
      "execution_count": null,
      "metadata": {
        "colab": {
          "base_uri": "https://localhost:8080/"
        },
        "id": "Re01X7nj4h15",
        "outputId": "f223b060-4124-4a65-a741-9aa0f504a23b"
      },
      "outputs": [
        {
          "name": "stdout",
          "output_type": "stream",
          "text": [
            "491\n",
            "154\n",
            "123\n"
          ]
        }
      ],
      "source": [
        "from sklearn.model_selection import train_test_split\n",
        "x_training,x_testing,y_training,y_testing=train_test_split(X_scale,encoded_y,test_size=0.2,random_state=10)\n",
        "x_training,x_valid,y_training,y_valid=train_test_split(x_training,y_training,test_size=0.2,random_state=10)\n",
        "print(len(x_training))\n",
        "print(len(x_testing))\n",
        "print(len(x_valid))"
      ]
    },
    {
      "cell_type": "code",
      "execution_count": null,
      "metadata": {
        "colab": {
          "base_uri": "https://localhost:8080/"
        },
        "id": "AC3YLPvr7oz0",
        "outputId": "e2b0ae76-761c-47e4-801a-d28d19493933"
      },
      "outputs": [
        {
          "name": "stdout",
          "output_type": "stream",
          "text": [
            "Model: \"sequential\"\n",
            "_________________________________________________________________\n",
            " Layer (type)                Output Shape              Param #   \n",
            "=================================================================\n",
            " dense (Dense)               (None, 24)                216       \n",
            "                                                                 \n",
            " dense_1 (Dense)             (None, 20)                500       \n",
            "                                                                 \n",
            " dense_2 (Dense)             (None, 12)                252       \n",
            "                                                                 \n",
            " dense_3 (Dense)             (None, 8)                 104       \n",
            "                                                                 \n",
            " dense_4 (Dense)             (None, 2)                 18        \n",
            "                                                                 \n",
            "=================================================================\n",
            "Total params: 1,090\n",
            "Trainable params: 1,090\n",
            "Non-trainable params: 0\n",
            "_________________________________________________________________\n"
          ]
        }
      ],
      "source": [
        "from keras.models import Sequential\n",
        "from keras.layers import Dense\n",
        "#Creating the model\n",
        "model=Sequential()\n",
        "model.add(Dense(24,input_shape=(8,),activation='relu'))\n",
        "model.add(Dense(20,activation='relu'))\n",
        "model.add(Dense(12,activation='tanh'))\n",
        "model.add(Dense(8,activation='relu'))\n",
        "model.add(Dense(2,activation='softmax'))\n",
        "model.summary()  "
      ]
    },
    {
      "cell_type": "code",
      "execution_count": null,
      "metadata": {
        "id": "WH-Ivhbk9b4Q"
      },
      "outputs": [],
      "source": [
        "from tensorflow.keras import optimizers\n",
        "opt=optimizers.SGD(learning_rate=0.01)\n",
        "model.compile(loss='categorical_crossentropy',optimizer=opt,metrics=['accuracy'])"
      ]
    },
    {
      "cell_type": "code",
      "execution_count": null,
      "metadata": {
        "colab": {
          "background_save": true,
          "base_uri": "https://localhost:8080/"
        },
        "id": "SHyv4egk-24i",
        "outputId": "3f2a9ac5-fe3c-43e0-cba9-205dd2f573a8"
      },
      "outputs": [
        {
          "name": "stdout",
          "output_type": "stream",
          "text": [
            "Epoch 1/50\n",
            "123/123 [==============================] - 1s 4ms/step - loss: 0.6599 - accuracy: 0.6314 - val_loss: 0.6521 - val_accuracy: 0.6260\n",
            "Epoch 2/50\n",
            "123/123 [==============================] - 0s 2ms/step - loss: 0.6266 - accuracy: 0.6680 - val_loss: 0.6414 - val_accuracy: 0.6260\n",
            "Epoch 3/50\n",
            "123/123 [==============================] - 0s 2ms/step - loss: 0.6196 - accuracy: 0.6680 - val_loss: 0.6343 - val_accuracy: 0.6260\n",
            "Epoch 4/50\n",
            "123/123 [==============================] - 0s 2ms/step - loss: 0.6107 - accuracy: 0.6680 - val_loss: 0.6233 - val_accuracy: 0.6260\n",
            "Epoch 5/50\n",
            "123/123 [==============================] - 0s 2ms/step - loss: 0.6018 - accuracy: 0.6701 - val_loss: 0.6141 - val_accuracy: 0.6260\n",
            "Epoch 6/50\n",
            "123/123 [==============================] - 0s 2ms/step - loss: 0.5942 - accuracy: 0.6680 - val_loss: 0.6013 - val_accuracy: 0.6504\n",
            "Epoch 7/50\n",
            "123/123 [==============================] - 0s 2ms/step - loss: 0.5829 - accuracy: 0.6762 - val_loss: 0.5880 - val_accuracy: 0.6911\n",
            "Epoch 8/50\n",
            "123/123 [==============================] - 0s 2ms/step - loss: 0.5707 - accuracy: 0.6986 - val_loss: 0.5711 - val_accuracy: 0.7154\n",
            "Epoch 9/50\n",
            "123/123 [==============================] - 0s 2ms/step - loss: 0.5573 - accuracy: 0.7047 - val_loss: 0.5636 - val_accuracy: 0.7236\n",
            "Epoch 10/50\n",
            "123/123 [==============================] - 0s 2ms/step - loss: 0.5487 - accuracy: 0.7312 - val_loss: 0.5392 - val_accuracy: 0.7317\n",
            "Epoch 11/50\n",
            "123/123 [==============================] - 0s 2ms/step - loss: 0.5365 - accuracy: 0.7373 - val_loss: 0.5274 - val_accuracy: 0.7317\n",
            "Epoch 12/50\n",
            "123/123 [==============================] - 0s 3ms/step - loss: 0.5269 - accuracy: 0.7271 - val_loss: 0.5109 - val_accuracy: 0.7480\n",
            "Epoch 13/50\n",
            "123/123 [==============================] - 0s 3ms/step - loss: 0.5183 - accuracy: 0.7271 - val_loss: 0.4967 - val_accuracy: 0.7724\n",
            "Epoch 14/50\n",
            "123/123 [==============================] - 0s 2ms/step - loss: 0.5009 - accuracy: 0.7475 - val_loss: 0.4895 - val_accuracy: 0.7805\n",
            "Epoch 15/50\n",
            "123/123 [==============================] - 0s 2ms/step - loss: 0.4968 - accuracy: 0.7597 - val_loss: 0.5431 - val_accuracy: 0.7480\n",
            "Epoch 16/50\n",
            "123/123 [==============================] - 0s 2ms/step - loss: 0.5067 - accuracy: 0.7454 - val_loss: 0.4754 - val_accuracy: 0.7886\n",
            "Epoch 17/50\n",
            "123/123 [==============================] - 0s 3ms/step - loss: 0.4946 - accuracy: 0.7515 - val_loss: 0.4741 - val_accuracy: 0.8049\n",
            "Epoch 18/50\n",
            "123/123 [==============================] - 0s 2ms/step - loss: 0.4950 - accuracy: 0.7475 - val_loss: 0.5041 - val_accuracy: 0.7398\n",
            "Epoch 19/50\n",
            "123/123 [==============================] - 0s 3ms/step - loss: 0.4862 - accuracy: 0.7475 - val_loss: 0.5960 - val_accuracy: 0.6585\n",
            "Epoch 20/50\n",
            "123/123 [==============================] - 0s 3ms/step - loss: 0.4989 - accuracy: 0.7515 - val_loss: 0.4663 - val_accuracy: 0.7886\n",
            "Epoch 21/50\n",
            "123/123 [==============================] - 0s 3ms/step - loss: 0.4865 - accuracy: 0.7821 - val_loss: 0.4723 - val_accuracy: 0.8130\n",
            "Epoch 22/50\n",
            "123/123 [==============================] - 0s 2ms/step - loss: 0.4808 - accuracy: 0.7515 - val_loss: 0.5016 - val_accuracy: 0.7480\n",
            "Epoch 23/50\n",
            "123/123 [==============================] - 0s 3ms/step - loss: 0.4823 - accuracy: 0.7495 - val_loss: 0.4780 - val_accuracy: 0.8130\n",
            "Epoch 24/50\n",
            "123/123 [==============================] - 0s 3ms/step - loss: 0.4855 - accuracy: 0.7658 - val_loss: 0.4585 - val_accuracy: 0.7967\n",
            "Epoch 25/50\n",
            "123/123 [==============================] - 0s 3ms/step - loss: 0.4847 - accuracy: 0.7515 - val_loss: 0.4679 - val_accuracy: 0.8130\n",
            "Epoch 26/50\n",
            "123/123 [==============================] - 0s 3ms/step - loss: 0.4814 - accuracy: 0.7719 - val_loss: 0.4622 - val_accuracy: 0.7886\n",
            "Epoch 27/50\n",
            "123/123 [==============================] - 0s 2ms/step - loss: 0.4835 - accuracy: 0.7719 - val_loss: 0.4563 - val_accuracy: 0.8130\n",
            "Epoch 28/50\n",
            "123/123 [==============================] - 0s 2ms/step - loss: 0.4831 - accuracy: 0.7413 - val_loss: 0.4672 - val_accuracy: 0.8130\n",
            "Epoch 29/50\n",
            "123/123 [==============================] - 0s 3ms/step - loss: 0.4822 - accuracy: 0.7800 - val_loss: 0.4607 - val_accuracy: 0.7805\n",
            "Epoch 30/50\n",
            "123/123 [==============================] - 0s 3ms/step - loss: 0.4786 - accuracy: 0.7678 - val_loss: 0.4579 - val_accuracy: 0.8130\n",
            "Epoch 31/50\n",
            "123/123 [==============================] - 0s 2ms/step - loss: 0.4697 - accuracy: 0.7862 - val_loss: 0.4549 - val_accuracy: 0.8049\n",
            "Epoch 32/50\n",
            "123/123 [==============================] - 0s 3ms/step - loss: 0.4792 - accuracy: 0.7597 - val_loss: 0.4555 - val_accuracy: 0.8049\n",
            "Epoch 33/50\n",
            "123/123 [==============================] - 0s 2ms/step - loss: 0.4688 - accuracy: 0.7821 - val_loss: 0.4587 - val_accuracy: 0.7967\n",
            "Epoch 34/50\n",
            "123/123 [==============================] - 0s 2ms/step - loss: 0.4770 - accuracy: 0.7454 - val_loss: 0.4579 - val_accuracy: 0.8130\n",
            "Epoch 35/50\n",
            "123/123 [==============================] - 0s 2ms/step - loss: 0.4700 - accuracy: 0.7658 - val_loss: 0.4732 - val_accuracy: 0.7805\n",
            "Epoch 36/50\n",
            "123/123 [==============================] - 0s 3ms/step - loss: 0.4661 - accuracy: 0.7902 - val_loss: 0.4665 - val_accuracy: 0.7724\n",
            "Epoch 37/50\n",
            "123/123 [==============================] - 0s 2ms/step - loss: 0.4774 - accuracy: 0.7597 - val_loss: 0.4561 - val_accuracy: 0.7967\n",
            "Epoch 38/50\n",
            "123/123 [==============================] - 0s 2ms/step - loss: 0.4732 - accuracy: 0.7597 - val_loss: 0.4720 - val_accuracy: 0.7805\n",
            "Epoch 39/50\n",
            "123/123 [==============================] - 0s 3ms/step - loss: 0.4751 - accuracy: 0.7678 - val_loss: 0.4708 - val_accuracy: 0.8049\n",
            "Epoch 40/50\n",
            "123/123 [==============================] - 0s 3ms/step - loss: 0.4618 - accuracy: 0.7760 - val_loss: 0.4658 - val_accuracy: 0.7805\n",
            "Epoch 41/50\n",
            "123/123 [==============================] - 0s 2ms/step - loss: 0.4734 - accuracy: 0.7597 - val_loss: 0.4551 - val_accuracy: 0.7886\n",
            "Epoch 42/50\n",
            "123/123 [==============================] - 0s 2ms/step - loss: 0.4721 - accuracy: 0.7413 - val_loss: 0.4568 - val_accuracy: 0.7967\n",
            "Epoch 43/50\n",
            "123/123 [==============================] - 0s 2ms/step - loss: 0.4707 - accuracy: 0.7515 - val_loss: 0.4603 - val_accuracy: 0.7967\n",
            "Epoch 44/50\n",
            "123/123 [==============================] - 0s 2ms/step - loss: 0.4641 - accuracy: 0.7739 - val_loss: 0.4568 - val_accuracy: 0.7967\n",
            "Epoch 45/50\n",
            "123/123 [==============================] - 0s 2ms/step - loss: 0.4683 - accuracy: 0.7678 - val_loss: 0.4551 - val_accuracy: 0.7886\n",
            "Epoch 46/50\n",
            "123/123 [==============================] - 0s 3ms/step - loss: 0.4638 - accuracy: 0.7637 - val_loss: 0.5408 - val_accuracy: 0.7480\n",
            "Epoch 47/50\n",
            "123/123 [==============================] - 0s 2ms/step - loss: 0.4682 - accuracy: 0.7780 - val_loss: 0.4575 - val_accuracy: 0.7967\n",
            "Epoch 48/50\n",
            "123/123 [==============================] - 0s 3ms/step - loss: 0.4678 - accuracy: 0.7637 - val_loss: 0.4542 - val_accuracy: 0.8049\n",
            "Epoch 49/50\n",
            "123/123 [==============================] - 0s 2ms/step - loss: 0.4623 - accuracy: 0.7597 - val_loss: 0.4751 - val_accuracy: 0.7886\n",
            "Epoch 50/50\n",
            "123/123 [==============================] - 0s 3ms/step - loss: 0.4627 - accuracy: 0.7658 - val_loss: 0.4559 - val_accuracy: 0.7886\n"
          ]
        }
      ],
      "source": [
        "hist=model.fit(x_training,y_training,batch_size=4,epochs=50,validation_data=(x_valid,y_valid))"
      ]
    },
    {
      "cell_type": "code",
      "execution_count": null,
      "metadata": {
        "colab": {
          "background_save": true,
          "base_uri": "https://localhost:8080/"
        },
        "id": "sR0P1zV9M6It",
        "outputId": "d0ff2f1b-2d23-4836-aeaa-56f24a3089d5"
      },
      "outputs": [
        {
          "data": {
            "text/plain": [
              "<Figure size 432x288 with 0 Axes>"
            ]
          },
          "execution_count": null,
          "metadata": {},
          "output_type": "execute_result"
        },
        {
          "data": {
            "image/png": "[encoded data removed]",
            "text/plain": [
              "<Figure size 432x288 with 1 Axes>"
            ]
          },
          "metadata": {},
          "output_type": "display_data"
        },
        {
          "data": {
            "image/png": "[encoded data removed]",
            "text/plain": [
              "<Figure size 432x288 with 1 Axes>"
            ]
          },
          "metadata": {},
          "output_type": "display_data"
        },
        {
          "data": {
            "text/plain": [
              "<Figure size 432x288 with 0 Axes>"
            ]
          },
          "metadata": {},
          "output_type": "display_data"
        }
      ],
      "source": [
        "import matplotlib.pyplot as plt \n",
        "acc = hist.history['accuracy']\n",
        "val_acc = hist.history['val_accuracy']\n",
        "loss = hist.history['loss']\n",
        "val_loss = hist.history['val_loss']\n",
        " \n",
        "epochs = range(len(acc))\n",
        " \n",
        "plt.plot(epochs, acc, 'b', label='Training acc')\n",
        "plt.plot(epochs, val_acc, 'r', label='Validation acc')\n",
        "plt.title('Training and validation accuracy')\n",
        "plt.legend()\n",
        "plt.savefig('custom_trainvalacc.png')\n",
        "plt.figure()\n",
        " \n",
        "plt.plot(epochs, loss, 'b', label='Training loss')\n",
        "plt.plot(epochs, val_loss, 'r', label='Validation loss')\n",
        "plt.title('Training and validation loss')\n",
        "plt.legend()\n",
        " \n",
        "#plt.show()\n",
        "plt.savefig('custom_trainvalloss.png')\n",
        "plt.figure()"
      ]
    },
    {
      "cell_type": "code",
      "execution_count": null,
      "metadata": {
        "colab": {
          "background_save": true,
          "base_uri": "https://localhost:8080/"
        },
        "id": "u8dCyU4nP9bg",
        "outputId": "9acf26bb-de20-45b7-b88b-ca164b7d8996"
      },
      "outputs": [
        {
          "name": "stdout",
          "output_type": "stream",
          "text": [
            "5/5 [==============================] - 0s 3ms/step - loss: 0.5011 - accuracy: 0.7338\n"
          ]
        }
      ],
      "source": [
        "res=model.evaluate(x_testing,y_testing)"
      ]
    },
    {
      "cell_type": "code",
      "execution_count": null,
      "metadata": {
        "colab": {
          "background_save": true,
          "base_uri": "https://localhost:8080/"
        },
        "id": "9VlH-PEzR52f",
        "outputId": "66ecc4ce-40f5-493b-8ad9-7b4db0ae29a4"
      },
      "outputs": [
        {
          "data": {
            "text/plain": [
              "array([[0.4092016, 0.5907984]], dtype=float32)"
            ]
          },
          "execution_count": null,
          "metadata": {},
          "output_type": "execute_result"
        }
      ],
      "source": [
        "test=x_testing[0]\n",
        "y_act=y_testing[0]\n",
        "result=model.predict(test.reshape(1,8))\n",
        "result"
      ]
    },
    {
      "cell_type": "code",
      "execution_count": null,
      "metadata": {
        "colab": {
          "background_save": true,
          "base_uri": "https://localhost:8080/"
        },
        "id": "dfpZ1it0TYnS",
        "outputId": "1528a70c-6c60-4a6a-c4f4-3d4de9c11856"
      },
      "outputs": [
        {
          "name": "stdout",
          "output_type": "stream",
          "text": [
            "Actual:[1. 0.]\n",
            "predicted:[[0. 1.]]\n"
          ]
        }
      ],
      "source": [
        "import numpy as np\n",
        "y_pred=np.round(result)\n",
        "print(\"Actual:\"+str(y_act))\n",
        "print(\"predicted:\"+str(y_pred))"
      ]
    }
  ],
  "metadata": {
    "colab": {
      "name": " Neural_Network_Classification.ipynb",
      "provenance": [],
      "include_colab_link": true
    },
    "kernelspec": {
      "display_name": "Python 3",
      "name": "python3"
    },
    "language_info": {
      "name": "python"
    }
  },
  "nbformat": 4,
  "nbformat_minor": 0
}