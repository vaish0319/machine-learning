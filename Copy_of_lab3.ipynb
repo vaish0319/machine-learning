{
  "nbformat": 4,
  "nbformat_minor": 0,
  "metadata": {
    "colab": {
      "name": "Copy of lab3.ipynb",
      "provenance": [],
      "collapsed_sections": [],
      "authorship_tag": "ABX9TyN8ZxZzQGTeNIBAi3a+Hczv",
      "include_colab_link": true
    },
    "kernelspec": {
      "name": "python3",
      "display_name": "Python 3"
    },
    "language_info": {
      "name": "python"
    }
  },
  "cells": [
    {
      "cell_type": "markdown",
      "metadata": {
        "id": "view-in-github",
        "colab_type": "text"
      },
      "source": [
        "<a href=\"https://colab.research.google.com/github/vaish0319/machine-learning/blob/main/Copy_of_lab3.ipynb\" target=\"_parent\"><img src=\"https://colab.research.google.com/assets/colab-badge.svg\" alt=\"Open In Colab\"/></a>"
      ]
    },
    {
      "cell_type": "code",
      "execution_count": 2,
      "metadata": {
        "colab": {
          "base_uri": "https://localhost:8080/"
        },
        "id": "MA3bESbEvFhc",
        "outputId": "5ce68e30-45b7-4176-ab7b-b90451a138a8"
      },
      "outputs": [
        {
          "output_type": "stream",
          "name": "stdout",
          "text": [
            "[1 2 3]\n"
          ]
        }
      ],
      "source": [
        "import numpy as np\n",
        "\n",
        "new_array = np.array([1,2,3])\n",
        "\n",
        "print(new_array)"
      ]
    },
    {
      "cell_type": "code",
      "source": [
        "\n",
        "\n",
        "# shape\n",
        "print(new_array.shape)\n",
        "\n",
        "# dimensions\n",
        "print(new_array.ndim)\n",
        "\n",
        "# size\n",
        "print(new_array.size)"
      ],
      "metadata": {
        "colab": {
          "base_uri": "https://localhost:8080/"
        },
        "id": "G3TvxLJlvd_Y",
        "outputId": "496c06d3-7aab-4087-e31c-9a6af6f5582b"
      },
      "execution_count": 3,
      "outputs": [
        {
          "output_type": "stream",
          "name": "stdout",
          "text": [
            "(3,)\n",
            "1\n",
            "3\n"
          ]
        }
      ]
    },
    {
      "cell_type": "code",
      "source": [
        "array = np.arange(0,10,1)\n",
        "print(array.dtype)"
      ],
      "metadata": {
        "colab": {
          "base_uri": "https://localhost:8080/"
        },
        "id": "HC-Qi6Zkv1wh",
        "outputId": "85689daf-c0b3-4957-d91c-bef387873fcb"
      },
      "execution_count": 4,
      "outputs": [
        {
          "output_type": "stream",
          "name": "stdout",
          "text": [
            "int64\n"
          ]
        }
      ]
    },
    {
      "cell_type": "code",
      "source": [
        "array = np.arange(0,10,1)\n",
        "print(array.dtype)"
      ],
      "metadata": {
        "colab": {
          "base_uri": "https://localhost:8080/"
        },
        "id": "hYgoSIWrv_ak",
        "outputId": "e994f82f-acee-487a-b826-c1fe0f8b8577"
      },
      "execution_count": 5,
      "outputs": [
        {
          "output_type": "stream",
          "name": "stdout",
          "text": [
            "int64\n"
          ]
        }
      ]
    },
    {
      "cell_type": "code",
      "source": [
        "# Creating a sequence from 0 to 42 elements with elements increasing by 1 using np.arange\n",
        "array = np.arange(0,42,1)\n",
        "print(array)\n",
        "print(\"---\")\n",
        "\n",
        "# Inserting 42 elements between 0 and 100 with np.linspace\n",
        "array = np.linspace(0,100,42)\n",
        "print(array)\n",
        "print(\"---\")"
      ],
      "metadata": {
        "colab": {
          "base_uri": "https://localhost:8080/"
        },
        "id": "s4W9ZdVHwFc4",
        "outputId": "0de8a6ac-4d69-4f4e-f1c5-be1972a3d2a2"
      },
      "execution_count": 6,
      "outputs": [
        {
          "output_type": "stream",
          "name": "stdout",
          "text": [
            "[ 0  1  2  3  4  5  6  7  8  9 10 11 12 13 14 15 16 17 18 19 20 21 22 23\n",
            " 24 25 26 27 28 29 30 31 32 33 34 35 36 37 38 39 40 41]\n",
            "---\n",
            "[  0.           2.43902439   4.87804878   7.31707317   9.75609756\n",
            "  12.19512195  14.63414634  17.07317073  19.51219512  21.95121951\n",
            "  24.3902439   26.82926829  29.26829268  31.70731707  34.14634146\n",
            "  36.58536585  39.02439024  41.46341463  43.90243902  46.34146341\n",
            "  48.7804878   51.2195122   53.65853659  56.09756098  58.53658537\n",
            "  60.97560976  63.41463415  65.85365854  68.29268293  70.73170732\n",
            "  73.17073171  75.6097561   78.04878049  80.48780488  82.92682927\n",
            "  85.36585366  87.80487805  90.24390244  92.68292683  95.12195122\n",
            "  97.56097561 100.        ]\n",
            "---\n"
          ]
        }
      ]
    }
  ]
}