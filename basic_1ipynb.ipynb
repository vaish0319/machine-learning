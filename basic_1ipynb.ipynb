{
  "nbformat": 4,
  "nbformat_minor": 0,
  "metadata": {
    "colab": {
      "name": "basic 1ipynb",
      "provenance": [],
      "collapsed_sections": [],
      "mount_file_id": "1rOYLxoogfD0cuTBE0zYIwcCR3WW5ItUQ",
      "authorship_tag": "ABX9TyP/DnamdpXwFjl4beE3DEbm",
      "include_colab_link": true
    },
    "kernelspec": {
      "name": "python3",
      "display_name": "Python 3"
    },
    "language_info": {
      "name": "python"
    }
  },
  "cells": [
    {
      "cell_type": "markdown",
      "metadata": {
        "id": "view-in-github",
        "colab_type": "text"
      },
      "source": [
        "<a href=\"https://colab.research.google.com/github/vaish0319/machine-learning/blob/main/basic_1ipynb.ipynb\" target=\"_parent\"><img src=\"https://colab.research.google.com/assets/colab-badge.svg\" alt=\"Open In Colab\"/></a>"
      ]
    },
    {
      "cell_type": "code",
      "execution_count": null,
      "metadata": {
        "id": "z3W0MLTGXH5G"
      },
      "outputs": [],
      "source": [
        ""
      ]
    },
    {
      "cell_type": "code",
      "source": [
        "print (\"welcome acropolis\")"
      ],
      "metadata": {
        "colab": {
          "base_uri": "https://localhost:8080/"
        },
        "id": "tfmXYFI4YSoG",
        "outputId": "e36eb6a7-620d-424a-9d7e-006db0561ffe"
      },
      "execution_count": null,
      "outputs": [
        {
          "output_type": "stream",
          "name": "stdout",
          "text": [
            "welcome acropolis\n"
          ]
        }
      ]
    },
    {
      "cell_type": "code",
      "source": [
        "info=[\"Vaishnavi Mujewar\",\"Computer Science and Information Technology \"]\n",
        "print(info[0])\n",
        "print(info[1])\n",
        "info.pop()\n",
        "print(info)"
      ],
      "metadata": {
        "colab": {
          "base_uri": "https://localhost:8080/"
        },
        "id": "GW2SKzNYYzYl",
        "outputId": "2344061a-ee84-4d46-820f-3dfa7fce9b0b"
      },
      "execution_count": null,
      "outputs": [
        {
          "output_type": "stream",
          "name": "stdout",
          "text": [
            "Vaishnavi Mujewar\n",
            "Computer Science and Information Technology \n",
            "['Vaishnavi Mujewar']\n"
          ]
        }
      ]
    },
    {
      "cell_type": "code",
      "source": [
        "firstname = input(\"Enter your first name: \")\n",
        "lastname = input(\"Enter your second name: \")\n",
        "semester = input(\"Enter your semester: \")"
      ],
      "metadata": {
        "id": "_1MSYyzTdHND"
      },
      "execution_count": null,
      "outputs": []
    },
    {
      "cell_type": "code",
      "source": [
        "l=[2,26,26,8,1,10,1,20,8,24,20,9,12,3,1,14,12,19,20,31,3,8,]\n",
        "print (l[:: -2])\n",
        "\n"
      ],
      "metadata": {
        "id": "m5UnV3UQgJBb"
      },
      "execution_count": null,
      "outputs": []
    },
    {
      "cell_type": "code",
      "source": [
        "List = [\"Acro\", \"CSIT\", \"THird Year\"] \n",
        "print(\"\\nList containing multiple values: \") \n",
        "print(list)\n",
        "print(List[0])  \n",
        "print(List[2])"
      ],
      "metadata": {
        "id": "kFeySQHXmS_6"
      },
      "execution_count": null,
      "outputs": []
    }
  ]
}